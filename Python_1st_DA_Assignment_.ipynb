{
  "nbformat": 4,
  "nbformat_minor": 0,
  "metadata": {
    "colab": {
      "provenance": [],
      "authorship_tag": "ABX9TyNB45EUZw8kq1B+7NYoXa7t",
      "include_colab_link": true
    },
    "kernelspec": {
      "name": "python3",
      "display_name": "Python 3"
    },
    "language_info": {
      "name": "python"
    }
  },
  "cells": [
    {
      "cell_type": "markdown",
      "metadata": {
        "id": "view-in-github",
        "colab_type": "text"
      },
      "source": [
        "<a href=\"https://colab.research.google.com/github/rayif007/Ecom/blob/main/Python_1st_DA_Assignment_.ipynb\" target=\"_parent\"><img src=\"https://colab.research.google.com/assets/colab-badge.svg\" alt=\"Open In Colab\"/></a>"
      ]
    },
    {
      "cell_type": "markdown",
      "source": [
        "Part 1: Strings (Concatenation, Slicing, and Methods)\n"
      ],
      "metadata": {
        "id": "HeIaYqJD7qhh"
      }
    },
    {
      "cell_type": "code",
      "execution_count": 5,
      "metadata": {
        "colab": {
          "base_uri": "https://localhost:8080/"
        },
        "id": "FwmPYHyRhG9s",
        "outputId": "a4b36c59-3ec6-4653-e680-291a3b871d45"
      },
      "outputs": [
        {
          "output_type": "stream",
          "name": "stdout",
          "text": [
            "enter your name: rayif\n",
            "Hello rayif\n"
          ]
        }
      ],
      "source": [
        "name = input('enter your name: ')\n",
        "greeting = \"Hello \"  + name\n",
        "print(greeting)"
      ]
    },
    {
      "cell_type": "code",
      "source": [
        "welcome_message = greeting + \",Welcome to python programming\"\n",
        "print(welcome_message)\n"
      ],
      "metadata": {
        "colab": {
          "base_uri": "https://localhost:8080/"
        },
        "id": "n4BC7bMAhK9A",
        "outputId": "b57bb98b-1135-4b63-dd17-5ba34ff261b1"
      },
      "execution_count": 6,
      "outputs": [
        {
          "output_type": "stream",
          "name": "stdout",
          "text": [
            "Hello rayif,Welcome to python programming\n"
          ]
        }
      ]
    },
    {
      "cell_type": "markdown",
      "source": [
        "2. String Slicing and Indexing"
      ],
      "metadata": {
        "id": "m1Qqnvg18Z95"
      }
    },
    {
      "cell_type": "code",
      "source": [
        "# Using the same 'welcome_message' from above\n",
        "print(\"First character:\", welcome_message[0])\n",
        "print(\"Last character:\", welcome_message[-1])\n",
        "print(\"First 5 characters:\", welcome_message[:5])\n",
        "print(\"Last 11 characters:\", welcome_message[-11:])\n",
        "print(\"Reversed string:\", welcome_message[::-1])\n",
        "\n"
      ],
      "metadata": {
        "colab": {
          "base_uri": "https://localhost:8080/"
        },
        "id": "hXzzSaAz8Ptv",
        "outputId": "9f09357b-881f-4d8f-800a-2d59f83cf117"
      },
      "execution_count": 20,
      "outputs": [
        {
          "output_type": "stream",
          "name": "stdout",
          "text": [
            "First character: H\n",
            "Last character: g\n",
            "First 5 characters: Hello\n",
            "Last 11 characters: programming\n",
            "Reversed string: gnimmargorp nohtyp ot emocleW,fiyar olleH\n"
          ]
        }
      ]
    },
    {
      "cell_type": "markdown",
      "source": [
        "3. String Methods\n"
      ],
      "metadata": {
        "id": "PFarPt9vA6xu"
      }
    },
    {
      "cell_type": "code",
      "source": [
        "stokxx = 'welcome to Python world'\n",
        "\n",
        "print('uppercase:',stokxx.upper())\n",
        "print('lowercase:',stokxx.lower())\n",
        "print('capitalize:',stokxx.capitalize())\n",
        "print('title:',stokxx.title())\n",
        "print('swapcase:',stokxx.swapcase())\n",
        "print('replaced string:',stokxx.replace('Python','Machine Learning and Robotics'))"
      ],
      "metadata": {
        "colab": {
          "base_uri": "https://localhost:8080/"
        },
        "id": "ye63MfdD-LBy",
        "outputId": "8e1cd902-e10b-4f30-82cf-1c2cea26e310"
      },
      "execution_count": 24,
      "outputs": [
        {
          "output_type": "stream",
          "name": "stdout",
          "text": [
            "uppercase: WELCOME TO PYTHON WORLD\n",
            "lowercase: welcome to python world\n",
            "capitalize: Welcome to python world\n",
            "title: Welcome To Python World\n",
            "swapcase: WELCOME TO pYTHON WORLD\n",
            "replaced string: welcome to Machine Learning and Robotics world\n"
          ]
        }
      ]
    },
    {
      "cell_type": "markdown",
      "source": [
        " Part 2: Tuples (Creation, Modification, and Access)"
      ],
      "metadata": {
        "id": "RJwffxukC5jV"
      }
    },
    {
      "cell_type": "code",
      "source": [
        "T1 = (10, 20, 30)\n",
        "T2 = (40, 50, 60)\n",
        "\n",
        "T_combine = T1 + T2\n",
        "print('combine_Tuple:',T_combine)\n",
        "\n",
        "T_repeat = T_combine * 3\n",
        "print(\"Repeated Tuple:\", T_repeat)\n",
        "\n",
        "print('3rd element:',T_combine[2])\n",
        "\n",
        "print(\"Last 3 Elements:\", T_combine[-3:])\n",
        "\n",
        "print('reversed:',T_combine[::-1])"
      ],
      "metadata": {
        "colab": {
          "base_uri": "https://localhost:8080/"
        },
        "id": "UFZ-EPvjDOG6",
        "outputId": "1556d944-a9b7-4b36-c8b6-4e2fe4eb0d3f"
      },
      "execution_count": 30,
      "outputs": [
        {
          "output_type": "stream",
          "name": "stdout",
          "text": [
            "combine_Tuple: (10, 20, 30, 40, 50, 60)\n",
            "Repeated Tuple: (10, 20, 30, 40, 50, 60, 10, 20, 30, 40, 50, 60, 10, 20, 30, 40, 50, 60)\n",
            "3rd element: 30\n",
            "Last 3 Elements: (40, 50, 60)\n",
            "reversed: (60, 50, 40, 30, 20, 10)\n"
          ]
        }
      ]
    }
  ]
}